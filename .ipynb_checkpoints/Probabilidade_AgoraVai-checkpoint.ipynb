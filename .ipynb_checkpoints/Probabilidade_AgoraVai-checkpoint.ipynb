{
 "cells": [
  {
   "cell_type": "markdown",
   "metadata": {},
   "source": [
    "# **Probabilidade: Retomando Conceitos**"
   ]
  },
  {
   "cell_type": "markdown",
   "metadata": {},
   "source": [
    "## O que é probabilidade e como calculá-la?"
   ]
  },
  {
   "cell_type": "markdown",
   "metadata": {},
   "source": [
    "A probabilidade é um framework matemático para representar a incerteza de declarações sobre o mundo real (statements). Em linhas gerais, ela nos oferece um conjunto de ferramentas para quantificarmos a incerteza.\n",
    "\n",
    "A probabilidade também pode ser entendida, segundo Ian Goodfellow *et al*<sup>[6]</sup>, da seguinte maneira:\n",
    "> A Probabilidade pode ser vista como uma extensão da lógica para lidarmos com as incertezas. A Lógica provê um rol de regras formais para determinarmos se uma proposição é verdadeira ou falsa dado um conjunto de outras proposições falsas ou verdadeiras. Assim, a Probabilidade nos oferece um rol de regras formais para determinarmos a probabilidade de uma proposição ser verdadeira ou falsa dada a probabilidade de outras proposições serem verdadeiras ou falsas.\n",
    "\n",
    "Existem três tipos de probabilidade:\n",
    "\n",
    "* **Probabilidade Marginal:** probabilidade de um evento A ocorrer. Exemplo: probabilidade de retiramos uma carta 4 de um baralho;\n",
    "* **Probabilidade Conjunta (Joint Probability):** probabilidade de intersecção de dois ou mais eventos. Por exemplo: a probabilidade de uma carta de baralho ser vermelha e ser um 4.\n",
    "* **Probabilidade Condicional (Conditional Probability):** probabilidade de um evento ocorrer dado que outro evento já ocorreu. Exemplo: a probabilidade de uma carta de baralho ser 4 dado que ela já é uma carta vermelha.<sup>[5]</sup>\n",
    "\n",
    "Abaixo, temos descritos os cálculos de cada uma das probabilidades.\n",
    "\n",
    "Para calcularmos a probabilidade marginal, usamos a seguinte fórmula:\n",
    "\n",
    "$P(A) = \\frac{Nº\\,de\\,resultados\\,favoráveis\\,à\\,ocorrência\\,de\\,A}{Nº\\,de\\,resultados\\,possíveis}$"
   ]
  },
  {
   "cell_type": "code",
   "execution_count": 28,
   "metadata": {},
   "outputs": [
    {
     "data": {
      "text/plain": [
       "0.07692307692307693"
      ]
     },
     "execution_count": 28,
     "metadata": {},
     "output_type": "execute_result"
    }
   ],
   "source": [
    "#Probabilidade Marginal\n",
    "numero_de_sucessos = 4\n",
    "espaço_amostral = 52\n",
    "\n",
    "probabilidade_evento = numero_de_sucessos / espaço_amostral\n",
    "probabilidade_evento"
   ]
  },
  {
   "cell_type": "markdown",
   "metadata": {},
   "source": [
    "Quando os eventos são **independentes**, a probabilidade conjunta é apenas o produto das probabilidades marginais de cada um dos eventos.\n",
    "\n",
    "$P(A \\cap B) = P(A) \\times P(B)$"
   ]
  },
  {
   "cell_type": "code",
   "execution_count": 29,
   "metadata": {},
   "outputs": [
    {
     "data": {
      "text/plain": [
       "0.038461538461538464"
      ]
     },
     "execution_count": 29,
     "metadata": {},
     "output_type": "execute_result"
    }
   ],
   "source": [
    "#Probabilidade Conjunta\n",
    "cartas_4 = 4\n",
    "cartas_vermelhas = 26\n",
    "espaço_amostral = 52\n",
    "\n",
    "probabilidade_evento = (cartas_4 / espaço_amostral) * (cartas_vermelhas / espaço_amostral)\n",
    "probabilidade_evento"
   ]
  },
  {
   "cell_type": "markdown",
   "metadata": {},
   "source": [
    "A probabilidade condicional é calculada da seguinte maneira:\n",
    "\n",
    "$P(A|B) = \\frac{P(A \\cap B)}{P(B)}$"
   ]
  },
  {
   "cell_type": "code",
   "execution_count": 30,
   "metadata": {},
   "outputs": [
    {
     "data": {
      "text/plain": [
       "0.07692307692307693"
      ]
     },
     "execution_count": 30,
     "metadata": {},
     "output_type": "execute_result"
    }
   ],
   "source": [
    "#Probabilidade Condicional\n",
    "cartas_4 = 4\n",
    "cartas_vermelhas = 26\n",
    "espaço_amostral = 52\n",
    "\n",
    "probabilidade_evento = ((cartas_4 / espaço_amostral) * (cartas_vermelhas / espaço_amostral)) / (cartas_vermelhas / espaço_amostral)\n",
    "probabilidade_evento"
   ]
  },
  {
   "cell_type": "markdown",
   "metadata": {},
   "source": [
    "<hr>\n",
    "\n",
    "## Distribuições de Probabilidade (Probability Distribution Functions ou PDF)"
   ]
  },
  {
   "cell_type": "markdown",
   "metadata": {},
   "source": [
    "Distribuições de probabilidade descrevem as probabilidades de cada resultado possível. Com isso, deixamos de saber apenas qual a possibilidade que um único evento ocorra<sup>[1]</sup>, tomando mais conhecimento sobre o comportamento dos eventos analisados. Independente de qual seja a nossa distribuição de probabilidade é importante lembrar que o total das probabilidades dos eventos descritos sempre será igual a 1.\n",
    "\n",
    "\n",
    "Uma descrição um pouco mais formal sobre o que são as distribuições de probabilidade é a seguinte:<br>\n",
    "> \"Uma distribuição de probabilidade é uma lista de todos os possíveis valores que uma variável randômica pode assumir juntamente com as suas respectivas probabilidades\"<sup>[2]</sup>\n",
    "\n",
    "Nós sempre tendemos a pensar de maneira determinística. Mas as distribuições de probabilidade são necessárias por causa da incerteza na geração do resultado. Duas pessoas podem realizar o mesmo experimento (jogar 10 moedas para cima, por exemplo) e obter resultados completamente diferentes. Assim, as distribuições de probabilidade descrevem que alguns resultados são mais prováveis do que outros.<sup>[4]</sup>\n",
    "\n",
    "É importante frizar que uma variável randômica é uma variável que assume o valor de um evento randômico. Assim, se definirmos a variável randômica X como o resultado do lançamento de um dado de seis lados não viciado, então X pode assumir qualquer valor inteiro entre 1 e 6. Assim, podemos descrever a probabilidade que a nossa variável randômica tem de assumir qualquer um desses valores e construir a nossa própria distribuição de probabilidade.\n",
    "\n",
    "Lado do Dado | Probabilidade\n",
    "--- | ---\n",
    "1 | 1/6\n",
    "2 | 1/6\n",
    "3 | 1/6\n",
    "4 | 1/6\n",
    "5 | 1/6\n",
    "6 | 1/6\n",
    "\n",
    "Abaixo, temos um gráfico com as principais distribuições de probabilidade<sup>[3]</sup>.\n",
    "\n",
    "<center>\n",
    "    <img src=\"cloudera_pdf.png\">\n",
    "</center>"
   ]
  },
  {
   "cell_type": "markdown",
   "metadata": {},
   "source": [
    "### **Conceito Importante #1:** Probability Mass Function ou PMF"
   ]
  },
  {
   "cell_type": "markdown",
   "metadata": {},
   "source": [
    "A distribuição de probabilidade de variáveis **discretas** é feita usando a função de probabilidade (**Probability Mass Function**, em inglês). Ela mapeia todos os estados de uma variável randômica à probabilidade da variável randômica assumir o estado definido.\n",
    "\n",
    "Assim, é com a PMF que eu descubro qual a probabilidade da minha variável randômica assumir um determinado evento."
   ]
  },
  {
   "cell_type": "markdown",
   "metadata": {},
   "source": [
    "### **Conceito Importante #2:** Cumulative Density Function ou CDF\n",
    "\n",
    "Utilizamos a CDF para descrever a probabilidade de um intervalo de eventos. Por exemplo, se quisermos saber qual a probabilidade de que X ou qualquer coisa menor que X aconteça, usamos a CDF."
   ]
  },
  {
   "cell_type": "markdown",
   "metadata": {},
   "source": [
    "### **Conceito Importante #3:** Probability Density Function ou PDF\n",
    "\n",
    "Utilizamos as PDF para descrevermos as distribuições de probabilidade contínuas. Assim, conseguimos mapear a probabilidade de acontecer cada conjunto de valores que a nossa variável randômica venha a assumir.\n",
    "\n",
    "*Observação*: Ao implementar a PDF de cada distribuição de probabilidade, o python consegue devolver a probabilidade de cada valor da reta real. Assim, temos uma probabilidade pontual diferente de 0 numa distribuição contínua."
   ]
  },
  {
   "cell_type": "markdown",
   "metadata": {},
   "source": [
    "<hr>\n",
    "\n",
    "## Distribuições de Probabilidades"
   ]
  },
  {
   "cell_type": "markdown",
   "metadata": {},
   "source": [
    "### Distribuição de Bernoulli\n",
    "\n",
    "A distribuição de Bernoulli é usada para saber a probabilidade de um único evento acontecer. Apesar do experimento ter que ser realizado diversas vezes, não estamos preocupados em entender quantas vezes este evento ocorre dado um certo número de tentativas; ao contrário, usamos as diversas simulações para tentar entender a probabilidade do evento acontecer na próxima vez ele ocorrer."
   ]
  },
  {
   "cell_type": "markdown",
   "metadata": {},
   "source": [
    "### Distribuição Binomial\n",
    "\n",
    "A distribuição binomial é a distribuição de probabilidade de uma sequência de experimentos nos quais cada experimento produz um resultado binário e nos quais o resultado de um experimento é independente do resultado de outro experimento.<sup>[4]</sup>\n",
    "\n",
    "A distribuição binomial pode ser pensada como a soma dos resultados de algo que segue uma distribuição de Bernoulli. Assim, podemos usá-la para saber a probabilidade de um certo número de sucessos dado um certo número de tentativas."
   ]
  },
  {
   "cell_type": "markdown",
   "metadata": {},
   "source": [
    "### \"Tá bom, isso eu entendi. Mas como faz o Lab?\"\n",
    "\n",
    "Dada uma cesta com 100 frutas, temos que 60 dessas frutas são maças e que 40 dessas frutas são laranjas. Assim, qual a probabilidade que se eu retirar 20 frutas de maneira randômica, eu obterei uma amostra com 5 maças e 15 laranjas?\n",
    "\n",
    "Observação: A ordem das frutas não importa."
   ]
  },
  {
   "cell_type": "code",
   "execution_count": 3,
   "metadata": {},
   "outputs": [],
   "source": [
    "#Vamos importar o módulo stats do scipy para nos ajudar a resolver este problema\n",
    "import scipy.stats as ss"
   ]
  },
  {
   "cell_type": "code",
   "execution_count": 5,
   "metadata": {},
   "outputs": [
    {
     "data": {
      "text/plain": [
       "0.0012944935222876511"
      ]
     },
     "execution_count": 5,
     "metadata": {},
     "output_type": "execute_result"
    }
   ],
   "source": [
    "#Para responder a este problema vamos usar a PMF da binomial\n",
    "\n",
    "ss.binom.pmf(k=5, #Quantas maçãs eu quero?\n",
    "             n=20, #Quantas vezes vou retirar frutas da minha cesta?\n",
    "             p=0.6) #Qual a probabilidade de retirar uma maçã cada vez que retiro uma fruta da cesta?"
   ]
  },
  {
   "cell_type": "markdown",
   "metadata": {},
   "source": [
    "Vamos plotar a binomial usada para responder ao exercício acima?"
   ]
  },
  {
   "cell_type": "code",
   "execution_count": 8,
   "metadata": {},
   "outputs": [
    {
     "data": {
      "image/png": "[encoded data removed]",
      "text/plain": [
       "<Figure size 1440x648 with 1 Axes>"
      ]
     },
     "metadata": {
      "needs_background": "light"
     },
     "output_type": "display_data"
    }
   ],
   "source": [
    "#Vamos importar as bibliotecas necessárias para este exercício\n",
    "import numpy as np\n",
    "import matplotlib.pyplot as plt\n",
    "\n",
    "#Usamos o este código mágico para que a matplotlib possa plotar os gráficos no output da célula\n",
    "%matplotlib inline\n",
    "\n",
    "#Vamos criar uma lista de números inteiros para cada valor que a variável randômica pode assumir\n",
    "x = np.arange(0, 20)\n",
    "\n",
    "#Criando uma figura e seus subplots\n",
    "fig, ax = plt.subplots(1,1, figsize=(20, 20*0.45))\n",
    "\n",
    "ax.plot(x, ss.binom.pmf(x, 20, 0.6), 'bo')\n",
    "ax.vlines(x, 0, ss.binom.pmf(x, 20, 0.6), 'b')\n",
    "ax.set_ylim(0, ss.binom.pmf(x, 20, 0.6).max()+0.01)\n",
    "ax.set_xlim(0, 20.1);"
   ]
  },
  {
   "cell_type": "markdown",
   "metadata": {},
   "source": [
    "### \"Lab tá resolvido, mas como vou usar isso na vida real?\" <sup>[4]</sup>\n",
    "\n",
    "Imagine que você tem analizar o ROI (Return on Investment) de uma companhia de call center, na qual os funcionários fazem telemarketing ativo para convencer os clientes a comprarem algum produto.\n",
    "\n",
    "Analisando uma série histórica no banco de dados da empresa, você percebe que:\n",
    "\n",
    "* Um funcionário faz em média 50 ligações por dia;\n",
    "* A taxa de conversão (compra) para cada ligação é de 4%;\n",
    "* A média de ganho por cada conversão é de R\\$100,00;\n",
    "* O call center tem 100 funcionários;\n",
    "* Cada funcionário recebe R\\$200,00 por dia de trabalho.\n",
    "\n",
    "Assim, podemos pensar em cada funcionário como uma variável randômica que segue a distribuição binomial com os seguintes parâmetros:\n",
    "\n",
    "* n = 50 (número de chamadas por dia)\n",
    "* p = 4% (probabilidade de sucesso de cada chamada)\n",
    "\n",
    "Vamos simular um dia de trabalho nesse call center?"
   ]
  },
  {
   "cell_type": "code",
   "execution_count": 9,
   "metadata": {},
   "outputs": [
    {
     "data": {
      "text/plain": [
       "array([0, 3, 1, 3, 1, 1, 1, 2, 5, 0, 2, 1, 2, 2, 1, 1, 2, 1, 4, 1, 1, 1,\n",
       "       2, 1, 1, 1, 1, 2, 1, 4, 2, 0, 3, 2, 4, 3, 2, 0, 1, 1, 2, 4, 1, 4,\n",
       "       4, 3, 1, 1, 2, 2, 2, 2, 2, 3, 0, 4, 0, 2, 1, 2, 2, 1, 1, 0, 2, 2,\n",
       "       3, 1, 3, 5, 4, 0, 5, 1, 1, 3, 2, 0, 3, 4, 1, 2, 3, 2, 1, 1, 1, 0,\n",
       "       1, 3, 2, 1, 3, 3, 3, 0, 3, 1, 2, 1])"
      ]
     },
     "execution_count": 9,
     "metadata": {},
     "output_type": "execute_result"
    }
   ],
   "source": [
    "#Número de empregados trabalhando\n",
    "empregados = 100\n",
    "\n",
    "#Custo por trabalhador\n",
    "salario = 200\n",
    "\n",
    "#Número de ligações por empregado (assumindo que elas são eventos independentes)\n",
    "n = 50\n",
    "\n",
    "#Probabilide de conversão em uma chamada\n",
    "p = 0.04\n",
    "\n",
    "#Ganho caso haja conversão\n",
    "ganho = 100\n",
    "\n",
    "#Simulação a partir de variáveis randômicas seguindo a distribuição binomial\n",
    "conversoes = np.random.binomial(n, p, size=empregados)\n",
    "conversoes\n",
    "\n",
    "## A função np.random.binomial retorna um número randômico de sucessos dado n tentativas"
   ]
  },
  {
   "cell_type": "code",
   "execution_count": 10,
   "metadata": {},
   "outputs": [
    {
     "name": "stdout",
     "output_type": "stream",
     "text": [
      "Média de Conversões por Empregado: 1.86\n",
      "Desvio Padrão de Conversões por Empregado: 1.25\n",
      "Número de Conversões Simuladas: 186\n",
      "Ganhos Totais: 18600\n",
      "Gastos Totais: 20000\n",
      "Lucros Totais: -1400\n"
     ]
    }
   ],
   "source": [
    "#Métricas da nossa empresa\n",
    "print(f'Média de Conversões por Empregado: {round(np.mean(conversoes),2)}')\n",
    "print(f'Desvio Padrão de Conversões por Empregado: {round(np.std(conversoes),2)}')\n",
    "print(f'Número de Conversões Simuladas: {np.sum(conversoes)}')\n",
    "print(f'Ganhos Totais: {np.sum(conversoes)*ganho}')\n",
    "print(f'Gastos Totais: {empregados * salario}')\n",
    "print(f'Lucros Totais: {(np.sum(conversoes)*ganho) - (empregados * salario)}')"
   ]
  },
  {
   "cell_type": "markdown",
   "metadata": {},
   "source": [
    "Vamos simular mais dias de operação dessa empresa?"
   ]
  },
  {
   "cell_type": "code",
   "execution_count": 16,
   "metadata": {},
   "outputs": [],
   "source": [
    "#Com as variáveis definidas anteriormente, vamos simular 1000 dias de operação dessa empresa\n",
    "#e salvar o valor de conversões de cada dia em uma lista\n",
    "\n",
    "conv_dia = []\n",
    "\n",
    "for i in range(1000):\n",
    "    conv = np.random.binomial(n=50, p=0.04, size=100)\n",
    "    conv_dia.append(np.sum(conv))"
   ]
  },
  {
   "cell_type": "code",
   "execution_count": 18,
   "metadata": {},
   "outputs": [
    {
     "data": {
      "text/html": [
       "<div>\n",
       "<style scoped>\n",
       "    .dataframe tbody tr th:only-of-type {\n",
       "        vertical-align: middle;\n",
       "    }\n",
       "\n",
       "    .dataframe tbody tr th {\n",
       "        vertical-align: top;\n",
       "    }\n",
       "\n",
       "    .dataframe thead th {\n",
       "        text-align: right;\n",
       "    }\n",
       "</style>\n",
       "<table border=\"1\" class=\"dataframe\">\n",
       "  <thead>\n",
       "    <tr style=\"text-align: right;\">\n",
       "      <th></th>\n",
       "      <th>Conversões</th>\n",
       "    </tr>\n",
       "  </thead>\n",
       "  <tbody>\n",
       "    <tr>\n",
       "      <th>0</th>\n",
       "      <td>205</td>\n",
       "    </tr>\n",
       "    <tr>\n",
       "      <th>1</th>\n",
       "      <td>206</td>\n",
       "    </tr>\n",
       "    <tr>\n",
       "      <th>2</th>\n",
       "      <td>214</td>\n",
       "    </tr>\n",
       "    <tr>\n",
       "      <th>3</th>\n",
       "      <td>183</td>\n",
       "    </tr>\n",
       "    <tr>\n",
       "      <th>4</th>\n",
       "      <td>208</td>\n",
       "    </tr>\n",
       "  </tbody>\n",
       "</table>\n",
       "</div>"
      ],
      "text/plain": [
       "   Conversões\n",
       "0         205\n",
       "1         206\n",
       "2         214\n",
       "3         183\n",
       "4         208"
      ]
     },
     "execution_count": 18,
     "metadata": {},
     "output_type": "execute_result"
    }
   ],
   "source": [
    "import pandas as pd\n",
    "\n",
    "#Criando um DataFrame com as conversões simuladas na célula anterior\n",
    "operacao = pd.DataFrame(data=conv_dia, columns=['Conversões'])\n",
    "operacao.head()"
   ]
  },
  {
   "cell_type": "code",
   "execution_count": 21,
   "metadata": {},
   "outputs": [
    {
     "data": {
      "text/html": [
       "<div>\n",
       "<style scoped>\n",
       "    .dataframe tbody tr th:only-of-type {\n",
       "        vertical-align: middle;\n",
       "    }\n",
       "\n",
       "    .dataframe tbody tr th {\n",
       "        vertical-align: top;\n",
       "    }\n",
       "\n",
       "    .dataframe thead th {\n",
       "        text-align: right;\n",
       "    }\n",
       "</style>\n",
       "<table border=\"1\" class=\"dataframe\">\n",
       "  <thead>\n",
       "    <tr style=\"text-align: right;\">\n",
       "      <th></th>\n",
       "      <th>Conversões</th>\n",
       "      <th>Ganhos Diários</th>\n",
       "      <th>Gastos Diários</th>\n",
       "      <th>Lucros Diários</th>\n",
       "    </tr>\n",
       "  </thead>\n",
       "  <tbody>\n",
       "    <tr>\n",
       "      <th>0</th>\n",
       "      <td>205</td>\n",
       "      <td>20500</td>\n",
       "      <td>20000</td>\n",
       "      <td>500</td>\n",
       "    </tr>\n",
       "    <tr>\n",
       "      <th>1</th>\n",
       "      <td>206</td>\n",
       "      <td>20600</td>\n",
       "      <td>20000</td>\n",
       "      <td>600</td>\n",
       "    </tr>\n",
       "    <tr>\n",
       "      <th>2</th>\n",
       "      <td>214</td>\n",
       "      <td>21400</td>\n",
       "      <td>20000</td>\n",
       "      <td>1400</td>\n",
       "    </tr>\n",
       "    <tr>\n",
       "      <th>3</th>\n",
       "      <td>183</td>\n",
       "      <td>18300</td>\n",
       "      <td>20000</td>\n",
       "      <td>-1700</td>\n",
       "    </tr>\n",
       "    <tr>\n",
       "      <th>4</th>\n",
       "      <td>208</td>\n",
       "      <td>20800</td>\n",
       "      <td>20000</td>\n",
       "      <td>800</td>\n",
       "    </tr>\n",
       "  </tbody>\n",
       "</table>\n",
       "</div>"
      ],
      "text/plain": [
       "   Conversões  Ganhos Diários  Gastos Diários  Lucros Diários\n",
       "0         205           20500           20000             500\n",
       "1         206           20600           20000             600\n",
       "2         214           21400           20000            1400\n",
       "3         183           18300           20000           -1700\n",
       "4         208           20800           20000             800"
      ]
     },
     "execution_count": 21,
     "metadata": {},
     "output_type": "execute_result"
    }
   ],
   "source": [
    "operacao['Ganhos Diários'] = operacao['Conversões'] * 100\n",
    "operacao['Gastos Diários'] = 100 * 200\n",
    "operacao['Lucros Diários'] = operacao['Ganhos Diários'] - operacao['Gastos Diários']\n",
    "operacao.head()"
   ]
  },
  {
   "cell_type": "code",
   "execution_count": 23,
   "metadata": {},
   "outputs": [
    {
     "data": {
      "image/png": "[encoded data removed]",
      "text/plain": [
       "<Figure size 1440x648 with 1 Axes>"
      ]
     },
     "metadata": {
      "needs_background": "light"
     },
     "output_type": "display_data"
    }
   ],
   "source": [
    "import seaborn as sns\n",
    "\n",
    "fig, ax = plt.subplots(nrows=1, ncols=1, figsize=(20, 20*0.45))\n",
    "\n",
    "plt.sca(ax)\n",
    "sns.distplot(operacao['Lucros Diários'], bins=100);"
   ]
  },
  {
   "cell_type": "markdown",
   "metadata": {},
   "source": [
    "Observando o histograma de Lucros Totais da nossa operação ao longo de 1000 dias, percebemos que estamos com sérios problemas, pois boa parte das nossas simulações resultou em lucro negativo (ou seja, perda).\n",
    "\n",
    "Como os nossos funcionários seguem uma distribuição binomial, porém, para aumentarmos a rentabilidade da operação deste call center, podemos pensar em uma das alternativas abaixo:\n",
    "\n",
    "* Aumentar o n (cada funcionário deverá fazer mais chamadas por dia);\n",
    "* Aumentar o p (aumentar a taxa de conversão, ligando para um público-alvo específico);"
   ]
  },
  {
   "cell_type": "markdown",
   "metadata": {},
   "source": [
    "## Distribuição de Poisson\n",
    "\n",
    "Assim como a distribuição binomial, a distribuição de Poisson é uma distribuição baseada numa contagem, ou seja, ela é baseada no número de vezes em que um evento ocorre. Ela é utilizada para contar eventos dada uma taxa média de ocorrência. Num geral, ela é utilizada para estimar o número de eventos ao longo de um intervalo de tempo.<sup>[4]</sup>"
   ]
  },
  {
   "cell_type": "markdown",
   "metadata": {},
   "source": [
    "### Bora pro Lab?\n",
    "\n",
    "Na UEFA Champios League, o número médio de gols por partida é 2,3. Assim, qual a probabilidade de que em uma partida sejam feitos 5 gols?"
   ]
  },
  {
   "cell_type": "code",
   "execution_count": 31,
   "metadata": {},
   "outputs": [
    {
     "data": {
      "text/plain": [
       "0.053775025581946814"
      ]
     },
     "execution_count": 31,
     "metadata": {},
     "output_type": "execute_result"
    }
   ],
   "source": [
    "ss.poisson.pmf(5, #Qual o valor da variável randômica?\n",
    "               mu = 2.3) #Qual a taxa de ocorrência do evento estudado?"
   ]
  },
  {
   "cell_type": "markdown",
   "metadata": {},
   "source": [
    "Vamos plotar a distribuição de Poisson para todos os inteiros entre 0 e 10."
   ]
  },
  {
   "cell_type": "code",
   "execution_count": 26,
   "metadata": {},
   "outputs": [
    {
     "data": {
      "image/png": "[encoded data removed]",
      "text/plain": [
       "<Figure size 1440x648 with 1 Axes>"
      ]
     },
     "metadata": {
      "needs_background": "light"
     },
     "output_type": "display_data"
    }
   ],
   "source": [
    "x = np.arange(0,10)\n",
    "\n",
    "fig, ax = plt.subplots(1,1, figsize=(20, 20*0.45))\n",
    "\n",
    "ax.plot(x, ss.poisson.pmf(x, 2.3), 'bo')\n",
    "ax.vlines(x, 0, ss.poisson.pmf(x, 2.3), 'b')\n",
    "ax.set_ylim(0, ss.poisson.pmf(x, 2.3).max()+0.01)\n",
    "ax.set_xlim(0, 10.1);"
   ]
  },
  {
   "cell_type": "markdown",
   "metadata": {},
   "source": [
    "### Vai ser difícil usar isso no mundo real, Rog!\n",
    "\n",
    "Digamos que você tenha uma loja de conveniência que funcione 24 horas e você quer ver o quanto manter o período noturno é rentável para você. Analisando dados históricos, você descobriu que entre as 22:00 e 06:00, apenas 3 clientes por hora compram alguma coisa na sua loja. Você também descobriu que, em média, os clientes que compram entre as 22:00 e as 06:00 gastam R\\$20,00 por compra.\n",
    "\n",
    "Além disso, analisando sua planilha de despesas, você também descobriu que seus gastos para funcionar durante a noite é, em média, R\\$45,00 por hora.\n",
    "\n",
    "Assim, temos os seguintes dados:\n",
    "\n",
    "* Um intervalo de 8 horas por noite para analisar;\n",
    "* A taxa de clientes que efetuam a compra é 3/hora;\n",
    "* Cada um desses clientes gastam, em média, R\\$20,00;\n",
    "* Para manter seu estabelecimento funcionando durante a noite, você gasta R\\$45,00 por hora.\n",
    "\n",
    "Num geral, você está obtendo mais prejuízos ou lucros?"
   ]
  },
  {
   "cell_type": "markdown",
   "metadata": {},
   "source": [
    "Primeiro passo: Vamos simular a operação em um único dia, para entendermos a situação problema."
   ]
  },
  {
   "cell_type": "code",
   "execution_count": 39,
   "metadata": {},
   "outputs": [
    {
     "data": {
      "text/plain": [
       "80"
      ]
     },
     "execution_count": 39,
     "metadata": {},
     "output_type": "execute_result"
    }
   ],
   "source": [
    "#Número de horas analisadas\n",
    "funcionamento = 8\n",
    "\n",
    "#Taxa de clientes que compram por hora\n",
    "mu = 3\n",
    "\n",
    "#Quanto cada cliente gasta em média na sua loja?\n",
    "entrada_por_cliente = 20\n",
    "\n",
    "#Quais seus gastos por hora?\n",
    "gastos_por_hora = 45\n",
    "\n",
    "## Simulando um único dia ##\n",
    "\n",
    "#Número de compras simuladas\n",
    "numero_de_compras = ss.poisson.rvs(mu=mu, size=funcionamento)\n",
    "\n",
    "#Calculando a entrada de dinheiro no período\n",
    "entrada_total = np.sum(numero_de_compras) * entrada_por_cliente\n",
    "\n",
    "#Calculando os gastos de funcionamento da loja no período\n",
    "gastos_totais = gastos_por_hora * funcionamento\n",
    "\n",
    "#Calculando o lucro (ou o prejuízo)\n",
    "lucro_dia = entrada_total - gastos_totais\n",
    "lucro_dia"
   ]
  },
  {
   "cell_type": "markdown",
   "metadata": {},
   "source": [
    "Vamos imprimir algumas métricas sobre o funcionamento da nossa loja nesse período"
   ]
  },
  {
   "cell_type": "code",
   "execution_count": 40,
   "metadata": {},
   "outputs": [
    {
     "name": "stdout",
     "output_type": "stream",
     "text": [
      "Número de clientes que comprou a cada hora: [2 1 6 2 3 3 2 3]\n",
      "O número total de clientes que comprou: 22\n",
      "Entrada total durante a noite: 440\n",
      "Gastos totais para funcionamento durante a noite: 360\n",
      "Lucro da noite: 80\n"
     ]
    }
   ],
   "source": [
    "print(f'Número de clientes que comprou a cada hora: {numero_de_compras}')\n",
    "print(f'O número total de clientes que comprou: {np.sum(numero_de_compras)}')\n",
    "print(f'Entrada total durante a noite: {entrada_total}')\n",
    "print(f'Gastos totais para funcionamento durante a noite: {gastos_totais}')\n",
    "print(f'Lucro da noite: {lucro_dia}')"
   ]
  },
  {
   "cell_type": "markdown",
   "metadata": {},
   "source": [
    "Para termos uma ideia melhor sobre o que está acontecendo, temos que simular mais dias da operação da loja!"
   ]
  },
  {
   "cell_type": "code",
   "execution_count": 43,
   "metadata": {},
   "outputs": [
    {
     "data": {
      "text/html": [
       "<div>\n",
       "<style scoped>\n",
       "    .dataframe tbody tr th:only-of-type {\n",
       "        vertical-align: middle;\n",
       "    }\n",
       "\n",
       "    .dataframe tbody tr th {\n",
       "        vertical-align: top;\n",
       "    }\n",
       "\n",
       "    .dataframe thead th {\n",
       "        text-align: right;\n",
       "    }\n",
       "</style>\n",
       "<table border=\"1\" class=\"dataframe\">\n",
       "  <thead>\n",
       "    <tr style=\"text-align: right;\">\n",
       "      <th></th>\n",
       "      <th>Total de Compras</th>\n",
       "    </tr>\n",
       "  </thead>\n",
       "  <tbody>\n",
       "    <tr>\n",
       "      <th>0</th>\n",
       "      <td>20</td>\n",
       "    </tr>\n",
       "    <tr>\n",
       "      <th>1</th>\n",
       "      <td>27</td>\n",
       "    </tr>\n",
       "    <tr>\n",
       "      <th>2</th>\n",
       "      <td>24</td>\n",
       "    </tr>\n",
       "    <tr>\n",
       "      <th>3</th>\n",
       "      <td>23</td>\n",
       "    </tr>\n",
       "    <tr>\n",
       "      <th>4</th>\n",
       "      <td>27</td>\n",
       "    </tr>\n",
       "  </tbody>\n",
       "</table>\n",
       "</div>"
      ],
      "text/plain": [
       "   Total de Compras\n",
       "0                20\n",
       "1                27\n",
       "2                24\n",
       "3                23\n",
       "4                27"
      ]
     },
     "execution_count": 43,
     "metadata": {},
     "output_type": "execute_result"
    }
   ],
   "source": [
    "compras_dia = []\n",
    "\n",
    "for i in range(1000):\n",
    "    compras = ss.poisson.rvs(mu=3, size=8)\n",
    "    compras_tot = np.sum(compras)\n",
    "    compras_dia.append(compras_tot)\n",
    "\n",
    "loja_sim = pd.DataFrame(compras_dia, columns=['Total de Compras'])\n",
    "loja_sim.head()"
   ]
  },
  {
   "cell_type": "code",
   "execution_count": 44,
   "metadata": {},
   "outputs": [
    {
     "data": {
      "text/html": [
       "<div>\n",
       "<style scoped>\n",
       "    .dataframe tbody tr th:only-of-type {\n",
       "        vertical-align: middle;\n",
       "    }\n",
       "\n",
       "    .dataframe tbody tr th {\n",
       "        vertical-align: top;\n",
       "    }\n",
       "\n",
       "    .dataframe thead th {\n",
       "        text-align: right;\n",
       "    }\n",
       "</style>\n",
       "<table border=\"1\" class=\"dataframe\">\n",
       "  <thead>\n",
       "    <tr style=\"text-align: right;\">\n",
       "      <th></th>\n",
       "      <th>Total de Compras</th>\n",
       "      <th>Ganhos Totais</th>\n",
       "      <th>Gastos Totais</th>\n",
       "      <th>Lucro</th>\n",
       "    </tr>\n",
       "  </thead>\n",
       "  <tbody>\n",
       "    <tr>\n",
       "      <th>0</th>\n",
       "      <td>20</td>\n",
       "      <td>400</td>\n",
       "      <td>360</td>\n",
       "      <td>40</td>\n",
       "    </tr>\n",
       "    <tr>\n",
       "      <th>1</th>\n",
       "      <td>27</td>\n",
       "      <td>540</td>\n",
       "      <td>360</td>\n",
       "      <td>180</td>\n",
       "    </tr>\n",
       "    <tr>\n",
       "      <th>2</th>\n",
       "      <td>24</td>\n",
       "      <td>480</td>\n",
       "      <td>360</td>\n",
       "      <td>120</td>\n",
       "    </tr>\n",
       "    <tr>\n",
       "      <th>3</th>\n",
       "      <td>23</td>\n",
       "      <td>460</td>\n",
       "      <td>360</td>\n",
       "      <td>100</td>\n",
       "    </tr>\n",
       "    <tr>\n",
       "      <th>4</th>\n",
       "      <td>27</td>\n",
       "      <td>540</td>\n",
       "      <td>360</td>\n",
       "      <td>180</td>\n",
       "    </tr>\n",
       "  </tbody>\n",
       "</table>\n",
       "</div>"
      ],
      "text/plain": [
       "   Total de Compras  Ganhos Totais  Gastos Totais  Lucro\n",
       "0                20            400            360     40\n",
       "1                27            540            360    180\n",
       "2                24            480            360    120\n",
       "3                23            460            360    100\n",
       "4                27            540            360    180"
      ]
     },
     "execution_count": 44,
     "metadata": {},
     "output_type": "execute_result"
    }
   ],
   "source": [
    "loja_sim['Ganhos Totais'] = loja_sim['Total de Compras'] * 20\n",
    "loja_sim['Gastos Totais'] = 8 * 45\n",
    "loja_sim['Lucro'] = loja_sim['Ganhos Totais'] - loja_sim['Gastos Totais']\n",
    "\n",
    "loja_sim.head()"
   ]
  },
  {
   "cell_type": "code",
   "execution_count": 48,
   "metadata": {},
   "outputs": [
    {
     "data": {
      "image/png": "[encoded data removed]",
      "text/plain": [
       "<Figure size 1440x648 with 1 Axes>"
      ]
     },
     "metadata": {
      "needs_background": "light"
     },
     "output_type": "display_data"
    }
   ],
   "source": [
    "fig, ax = plt.subplots(nrows=1, ncols=1, figsize=(20, 20*0.45))\n",
    "\n",
    "plt.sca(ax)\n",
    "sns.distplot(loja_sim['Lucro'], bins=50);"
   ]
  },
  {
   "cell_type": "markdown",
   "metadata": {},
   "source": [
    "Olhando a distribuição dos lucros, você percebeu que tem mais chances de ter lucro que prejuízo. Assim, decidiu manter a loja funcionando 24 horas."
   ]
  },
  {
   "cell_type": "markdown",
   "metadata": {},
   "source": [
    "## Distribuição Exponencial\n",
    "\n",
    "A distribuição exponencial, num geral, descreve o tempo até que algum evento específico ocorra.<sup>[7]</sup> Assim, dado um evento cuja taxa de ocorrência num intervalo de tempo é descrita por uma distribuição de Poisson, então o tempo entre eventos segue uma distribuição exponencial com a mesma taxa.<sup>[1]</sup>\n",
    "\n",
    "Alguns tipos de resposta que tentamos responder com uma distribuição exponencial:\n",
    "* Número de *hits* que um site recebe por hora;\n",
    "* Quanto tempo uma máquina consegue funcionar sem falhar;\n",
    "* Qual o intervalo de tempo entre duas ocorrências do mesmo fenômeno natural; etc.<sup>[8]</sup>"
   ]
  },
  {
   "cell_type": "markdown",
   "metadata": {},
   "source": [
    "### Fazendo o Lab\n",
    "\n",
    "Supondo que o tempo que uma pessoa passa dentro de uma agência bancária é exponencialmente distribuído com uma média de espera de 10 minutos. Qual é a probabilidade de um cliente esperar menos de 15 minutos no banco?"
   ]
  },
  {
   "cell_type": "code",
   "execution_count": 49,
   "metadata": {},
   "outputs": [
    {
     "data": {
      "text/plain": [
       "0.7768698398515702"
      ]
     },
     "execution_count": 49,
     "metadata": {},
     "output_type": "execute_result"
    }
   ],
   "source": [
    "#Usaremos a CDF pra resolver este problema\n",
    "\n",
    "ss.expon.cdf(15, #Qual o tempo máximo?\n",
    "             scale=10) #Qual a espera média?\n",
    "\n",
    "#O parâmetro scale é 1/lambda, porém lambda é definido como 1/média"
   ]
  },
  {
   "cell_type": "markdown",
   "metadata": {},
   "source": [
    "Qual é a probabilidade que um cliente esperar por mais de 15 minutos?"
   ]
  },
  {
   "cell_type": "code",
   "execution_count": 50,
   "metadata": {},
   "outputs": [
    {
     "data": {
      "text/plain": [
       "0.2231301601484298"
      ]
     },
     "execution_count": 50,
     "metadata": {},
     "output_type": "execute_result"
    }
   ],
   "source": [
    "#Como a área total da distribuição deve ser igual a 1, temos:\n",
    "\n",
    "1 - ss.expon.cdf(15, #Qual o tempo máximo?\n",
    "             scale=10) #Qual a espera média?"
   ]
  },
  {
   "cell_type": "markdown",
   "metadata": {},
   "source": [
    "<hr>"
   ]
  },
  {
   "cell_type": "markdown",
   "metadata": {},
   "source": [
    "## Fontes:\n",
    "[1] https://medium.com/@srowen/common-probability-distributions-347e6b945ce4 <br>\n",
    "[2] https://towardsdatascience.com/probability-concepts-explained-probability-distributions-introduction-part-3-4a5db81858dc <br>\n",
    "[3] Sean Owen @ Cloudera Blog. https://blog.cloudera.com/blog/2015/12/common-probability-distributions-the-data-scientists-crib-sheet/ <br>\n",
    "[4] https://towardsdatascience.com/fun-with-the-binomial-distribution-96a5ecabf65b <br>\n",
    "[5] https://towardsdatascience.com/probability-concepts-explained-introduction-a7c0316de465 <br>\n",
    "[6] https://www.deeplearningbook.org/contents/prob.html <br>\n",
    "[7] https://courses.lumenlearning.com/introstats1/chapter/the-exponential-distribution/ <br>\n",
    "[8] https://medium.com/@rrfd/what-is-the-exponential-distribution-a-gentle-introduction-questions-and-examples-with-python-d711d98f4b04"
   ]
  }
 ],
 "metadata": {
  "kernelspec": {
   "display_name": "Python 3",
   "language": "python",
   "name": "python3"
  },
  "language_info": {
   "codemirror_mode": {
    "name": "ipython",
    "version": 3
   },
   "file_extension": ".py",
   "mimetype": "text/x-python",
   "name": "python",
   "nbconvert_exporter": "python",
   "pygments_lexer": "ipython3",
   "version": "3.7.3"
  }
 },
 "nbformat": 4,
 "nbformat_minor": 2
}
